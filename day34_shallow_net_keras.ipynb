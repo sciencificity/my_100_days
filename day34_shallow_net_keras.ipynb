{
  "nbformat": 4,
  "nbformat_minor": 0,
  "metadata": {
    "colab": {
      "name": "shallow_net_keras.ipynb",
      "provenance": [],
      "collapsed_sections": []
    },
    "kernelspec": {
      "name": "python3",
      "display_name": "Python 3"
    }
  },
  "cells": [
    {
      "cell_type": "markdown",
      "metadata": {
        "id": "pduYz6MgDOXw",
        "colab_type": "text"
      },
      "source": [
        "## Shallow Net - Keras\n"
      ]
    },
    {
      "cell_type": "code",
      "metadata": {
        "id": "Hg9GG7oIDJiP",
        "colab_type": "code",
        "colab": {
          "base_uri": "https://localhost:8080/",
          "height": 80
        },
        "outputId": "b1193027-6404-49a0-b720-96f4292e1cc4"
      },
      "source": [
        "import numpy as np  \n",
        "np.random.seed(42)\n",
        "import keras\n",
        "from keras.datasets import mnist\n",
        "from keras.layers import Dense\n",
        "from keras.models import Sequential\n",
        "from keras.optimizers import SGD"
      ],
      "execution_count": 1,
      "outputs": [
        {
          "output_type": "stream",
          "text": [
            "Using TensorFlow backend.\n"
          ],
          "name": "stderr"
        },
        {
          "output_type": "display_data",
          "data": {
            "text/html": [
              "<p style=\"color: red;\">\n",
              "The default version of TensorFlow in Colab will soon switch to TensorFlow 2.x.<br>\n",
              "We recommend you <a href=\"https://www.tensorflow.org/guide/migrate\" target=\"_blank\">upgrade</a> now \n",
              "or ensure your notebook will continue to use TensorFlow 1.x via the <code>%tensorflow_version 1.x</code> magic:\n",
              "<a href=\"https://colab.research.google.com/notebooks/tensorflow_version.ipynb\" target=\"_blank\">more info</a>.</p>\n"
            ],
            "text/plain": [
              "<IPython.core.display.HTML object>"
            ]
          },
          "metadata": {
            "tags": []
          }
        }
      ]
    },
    {
      "cell_type": "code",
      "metadata": {
        "id": "RoxfK2WhDrHZ",
        "colab_type": "code",
        "colab": {}
      },
      "source": [
        "# Load data\n",
        "# mnist has 60,000 training examples, and 10,000 test examples\n",
        "(X_train, y_train) , (X_test, y_test) = mnist.load_data()\n"
      ],
      "execution_count": 0,
      "outputs": []
    },
    {
      "cell_type": "code",
      "metadata": {
        "id": "gGkimlmnEpeQ",
        "colab_type": "code",
        "colab": {
          "base_uri": "https://localhost:8080/",
          "height": 34
        },
        "outputId": "be1ba331-660a-458d-fa38-71269ab6eff7"
      },
      "source": [
        "X_train.shape"
      ],
      "execution_count": 3,
      "outputs": [
        {
          "output_type": "execute_result",
          "data": {
            "text/plain": [
              "(60000, 28, 28)"
            ]
          },
          "metadata": {
            "tags": []
          },
          "execution_count": 3
        }
      ]
    },
    {
      "cell_type": "code",
      "metadata": {
        "id": "SRGwuRTHEuUw",
        "colab_type": "code",
        "colab": {
          "base_uri": "https://localhost:8080/",
          "height": 34
        },
        "outputId": "9811f703-da94-47a8-e126-fd49f758c3f6"
      },
      "source": [
        "y_train.shape"
      ],
      "execution_count": 4,
      "outputs": [
        {
          "output_type": "execute_result",
          "data": {
            "text/plain": [
              "(60000,)"
            ]
          },
          "metadata": {
            "tags": []
          },
          "execution_count": 4
        }
      ]
    },
    {
      "cell_type": "code",
      "metadata": {
        "id": "UENaomD1EyQ1",
        "colab_type": "code",
        "colab": {
          "base_uri": "https://localhost:8080/",
          "height": 34
        },
        "outputId": "f75adc3e-490f-4aac-d05e-b36507e0897b"
      },
      "source": [
        "y_train[0:10] # first is a 5, then a 0, then 4 etc."
      ],
      "execution_count": 5,
      "outputs": [
        {
          "output_type": "execute_result",
          "data": {
            "text/plain": [
              "array([5, 0, 4, 1, 9, 2, 1, 3, 1, 4], dtype=uint8)"
            ]
          },
          "metadata": {
            "tags": []
          },
          "execution_count": 5
        }
      ]
    },
    {
      "cell_type": "code",
      "metadata": {
        "id": "YPLsfDShE3M1",
        "colab_type": "code",
        "colab": {}
      },
      "source": [
        "# Preprocess\n",
        "# reshape the 60000 28x28 images into a vector of 784\n",
        "X_train = X_train.reshape(60000, 784).astype('float32')\n",
        "X_test = X_test.reshape(10000, 784).astype('float32')\n",
        "\n",
        "# Step 2: Change all values to be btw 0 - 1\n",
        "X_train /= 255\n",
        "X_test /= 255"
      ],
      "execution_count": 0,
      "outputs": []
    },
    {
      "cell_type": "code",
      "metadata": {
        "id": "FsZrpKiFF_hb",
        "colab_type": "code",
        "colab": {}
      },
      "source": [
        "# We have 10 classes of digits\n",
        "# We need to convert this to use one-hot encoding so that instead of the NN seeing \n",
        "# 4,2 it will see arrays:\n",
        "# [0,0,0,0,1,0,0,0,0,0] as 4; [0,0,1,0,0,0,0,0,0,0] as 2\n",
        "n_classes = 10\n",
        "y_train = keras.utils.to_categorical(y_train, n_classes)\n",
        "y_test = keras.utils.to_categorical(y_test, n_classes)"
      ],
      "execution_count": 0,
      "outputs": []
    },
    {
      "cell_type": "code",
      "metadata": {
        "id": "laBKUQH_IDsp",
        "colab_type": "code",
        "colab": {
          "base_uri": "https://localhost:8080/",
          "height": 68
        },
        "outputId": "d89142f5-b1e9-40d5-aba2-1c350c7ea31c"
      },
      "source": [
        "y_train[0:3]"
      ],
      "execution_count": 8,
      "outputs": [
        {
          "output_type": "execute_result",
          "data": {
            "text/plain": [
              "array([[0., 0., 0., 0., 0., 1., 0., 0., 0., 0.],\n",
              "       [1., 0., 0., 0., 0., 0., 0., 0., 0., 0.],\n",
              "       [0., 0., 0., 0., 1., 0., 0., 0., 0., 0.]], dtype=float32)"
            ]
          },
          "metadata": {
            "tags": []
          },
          "execution_count": 8
        }
      ]
    },
    {
      "cell_type": "code",
      "metadata": {
        "id": "ouXKMX9-IHZ7",
        "colab_type": "code",
        "colab": {
          "base_uri": "https://localhost:8080/",
          "height": 119
        },
        "outputId": "1b5c8519-ad5e-40c5-df17-d270c54d9adc"
      },
      "source": [
        "# Design our NN\n",
        "# 784 inputs per image\n",
        "# 64 hidden neurons\n",
        "# 10 outputs\n",
        "# Since each layer feeds into the next these are sequential models\n",
        "\n",
        "model = Sequential()\n",
        "# Add in a dense (fully connected) layer with 64 neurons\n",
        "# We use the sigmoid activation function and we also need to\n",
        "# specify that the input shape is 784 x 1\n",
        "# Middle Layer\n",
        "model.add(Dense((64), activation = 'sigmoid', input_shape = (784,)))\n",
        "# On top of that we need to add our output layer\n",
        "# Also dense - we have 10 classes of digits, and a diff activation fn here\n",
        "model.add(Dense((10), activation = 'softmax'))"
      ],
      "execution_count": 9,
      "outputs": [
        {
          "output_type": "stream",
          "text": [
            "WARNING:tensorflow:From /usr/local/lib/python3.6/dist-packages/keras/backend/tensorflow_backend.py:66: The name tf.get_default_graph is deprecated. Please use tf.compat.v1.get_default_graph instead.\n",
            "\n",
            "WARNING:tensorflow:From /usr/local/lib/python3.6/dist-packages/keras/backend/tensorflow_backend.py:541: The name tf.placeholder is deprecated. Please use tf.compat.v1.placeholder instead.\n",
            "\n",
            "WARNING:tensorflow:From /usr/local/lib/python3.6/dist-packages/keras/backend/tensorflow_backend.py:4432: The name tf.random_uniform is deprecated. Please use tf.random.uniform instead.\n",
            "\n"
          ],
          "name": "stdout"
        }
      ]
    },
    {
      "cell_type": "code",
      "metadata": {
        "id": "6_waTj0_JqYW",
        "colab_type": "code",
        "colab": {
          "base_uri": "https://localhost:8080/",
          "height": 221
        },
        "outputId": "728010df-3d91-4316-ab56-496045ef04c3"
      },
      "source": [
        "model.summary() # see our model"
      ],
      "execution_count": 10,
      "outputs": [
        {
          "output_type": "stream",
          "text": [
            "Model: \"sequential_1\"\n",
            "_________________________________________________________________\n",
            "Layer (type)                 Output Shape              Param #   \n",
            "=================================================================\n",
            "dense_1 (Dense)              (None, 64)                50240     \n",
            "_________________________________________________________________\n",
            "dense_2 (Dense)              (None, 10)                650       \n",
            "=================================================================\n",
            "Total params: 50,890\n",
            "Trainable params: 50,890\n",
            "Non-trainable params: 0\n",
            "_________________________________________________________________\n"
          ],
          "name": "stdout"
        }
      ]
    },
    {
      "cell_type": "markdown",
      "metadata": {
        "id": "G7RDfu_zMP8R",
        "colab_type": "text"
      },
      "source": [
        "Notice how the Param for the first dense layer is 50240 (this is equivalent to (784*64) + 64 -> each of the input values has a weight + bias for each of the 64 neurons. \n",
        "\n",
        "The 2nd layer too (64 * 10) + 10 -> 650"
      ]
    },
    {
      "cell_type": "code",
      "metadata": {
        "id": "ShPwxDkhL4TN",
        "colab_type": "code",
        "colab": {
          "base_uri": "https://localhost:8080/",
          "height": 51
        },
        "outputId": "6984c0c0-7941-45c1-8e10-a05e8c2d2084"
      },
      "source": [
        "# Configure model\n",
        "model.compile(loss = 'mean_squared_error', optimizer=SGD(lr = 0.01), metrics = ['accuracy'])"
      ],
      "execution_count": 11,
      "outputs": [
        {
          "output_type": "stream",
          "text": [
            "WARNING:tensorflow:From /usr/local/lib/python3.6/dist-packages/keras/optimizers.py:793: The name tf.train.Optimizer is deprecated. Please use tf.compat.v1.train.Optimizer instead.\n",
            "\n"
          ],
          "name": "stdout"
        }
      ]
    },
    {
      "cell_type": "code",
      "metadata": {
        "id": "Xq8zHF4ANHO4",
        "colab_type": "code",
        "colab": {
          "base_uri": "https://localhost:8080/",
          "height": 1000
        },
        "outputId": "e14e60e3-c806-4e34-dc66-60df5c4fa696"
      },
      "source": [
        "# epoch = how many times do you want to run over the data\n",
        "# The more epochs you run for the better the NN becomes at learning.\n",
        "model.fit(X_train, y_train, batch_size=128, epochs = 100, verbose = 1, \n",
        "          validation_data = (X_test, y_test))"
      ],
      "execution_count": 12,
      "outputs": [
        {
          "output_type": "stream",
          "text": [
            "WARNING:tensorflow:From /usr/local/lib/python3.6/dist-packages/keras/backend/tensorflow_backend.py:1033: The name tf.assign_add is deprecated. Please use tf.compat.v1.assign_add instead.\n",
            "\n",
            "WARNING:tensorflow:From /usr/local/lib/python3.6/dist-packages/keras/backend/tensorflow_backend.py:1020: The name tf.assign is deprecated. Please use tf.compat.v1.assign instead.\n",
            "\n",
            "WARNING:tensorflow:From /usr/local/lib/python3.6/dist-packages/keras/backend/tensorflow_backend.py:3005: The name tf.Session is deprecated. Please use tf.compat.v1.Session instead.\n",
            "\n",
            "Train on 60000 samples, validate on 10000 samples\n",
            "Epoch 1/100\n",
            "WARNING:tensorflow:From /usr/local/lib/python3.6/dist-packages/keras/backend/tensorflow_backend.py:190: The name tf.get_default_session is deprecated. Please use tf.compat.v1.get_default_session instead.\n",
            "\n",
            "WARNING:tensorflow:From /usr/local/lib/python3.6/dist-packages/keras/backend/tensorflow_backend.py:197: The name tf.ConfigProto is deprecated. Please use tf.compat.v1.ConfigProto instead.\n",
            "\n",
            "WARNING:tensorflow:From /usr/local/lib/python3.6/dist-packages/keras/backend/tensorflow_backend.py:207: The name tf.global_variables is deprecated. Please use tf.compat.v1.global_variables instead.\n",
            "\n",
            "WARNING:tensorflow:From /usr/local/lib/python3.6/dist-packages/keras/backend/tensorflow_backend.py:216: The name tf.is_variable_initialized is deprecated. Please use tf.compat.v1.is_variable_initialized instead.\n",
            "\n",
            "WARNING:tensorflow:From /usr/local/lib/python3.6/dist-packages/keras/backend/tensorflow_backend.py:223: The name tf.variables_initializer is deprecated. Please use tf.compat.v1.variables_initializer instead.\n",
            "\n",
            "60000/60000 [==============================] - 1s 24us/step - loss: 0.0915 - acc: 0.0895 - val_loss: 0.0911 - val_acc: 0.0955\n",
            "Epoch 2/100\n",
            "60000/60000 [==============================] - 1s 21us/step - loss: 0.0908 - acc: 0.1058 - val_loss: 0.0905 - val_acc: 0.1162\n",
            "Epoch 3/100\n",
            "60000/60000 [==============================] - 1s 21us/step - loss: 0.0903 - acc: 0.1406 - val_loss: 0.0901 - val_acc: 0.1513\n",
            "Epoch 4/100\n",
            "60000/60000 [==============================] - 1s 21us/step - loss: 0.0899 - acc: 0.1925 - val_loss: 0.0897 - val_acc: 0.2058\n",
            "Epoch 5/100\n",
            "60000/60000 [==============================] - 1s 21us/step - loss: 0.0895 - acc: 0.2401 - val_loss: 0.0893 - val_acc: 0.2424\n",
            "Epoch 6/100\n",
            "60000/60000 [==============================] - 1s 21us/step - loss: 0.0891 - acc: 0.2706 - val_loss: 0.0889 - val_acc: 0.2715\n",
            "Epoch 7/100\n",
            "60000/60000 [==============================] - 1s 21us/step - loss: 0.0888 - acc: 0.2905 - val_loss: 0.0886 - val_acc: 0.2879\n",
            "Epoch 8/100\n",
            "60000/60000 [==============================] - 1s 21us/step - loss: 0.0884 - acc: 0.3022 - val_loss: 0.0883 - val_acc: 0.3019\n",
            "Epoch 9/100\n",
            "60000/60000 [==============================] - 1s 21us/step - loss: 0.0881 - acc: 0.3102 - val_loss: 0.0879 - val_acc: 0.3093\n",
            "Epoch 10/100\n",
            "60000/60000 [==============================] - 1s 21us/step - loss: 0.0877 - acc: 0.3146 - val_loss: 0.0876 - val_acc: 0.3145\n",
            "Epoch 11/100\n",
            "60000/60000 [==============================] - 1s 20us/step - loss: 0.0874 - acc: 0.3180 - val_loss: 0.0872 - val_acc: 0.3183\n",
            "Epoch 12/100\n",
            "60000/60000 [==============================] - 1s 20us/step - loss: 0.0871 - acc: 0.3209 - val_loss: 0.0869 - val_acc: 0.3204\n",
            "Epoch 13/100\n",
            "60000/60000 [==============================] - 1s 21us/step - loss: 0.0867 - acc: 0.3236 - val_loss: 0.0865 - val_acc: 0.3237\n",
            "Epoch 14/100\n",
            "60000/60000 [==============================] - 1s 21us/step - loss: 0.0864 - acc: 0.3243 - val_loss: 0.0862 - val_acc: 0.3256\n",
            "Epoch 15/100\n",
            "60000/60000 [==============================] - 1s 21us/step - loss: 0.0860 - acc: 0.3264 - val_loss: 0.0858 - val_acc: 0.3274\n",
            "Epoch 16/100\n",
            "60000/60000 [==============================] - 1s 21us/step - loss: 0.0857 - acc: 0.3277 - val_loss: 0.0855 - val_acc: 0.3283\n",
            "Epoch 17/100\n",
            "60000/60000 [==============================] - 1s 20us/step - loss: 0.0853 - acc: 0.3289 - val_loss: 0.0851 - val_acc: 0.3297\n",
            "Epoch 18/100\n",
            "60000/60000 [==============================] - 1s 21us/step - loss: 0.0850 - acc: 0.3303 - val_loss: 0.0847 - val_acc: 0.3312\n",
            "Epoch 19/100\n",
            "60000/60000 [==============================] - 1s 20us/step - loss: 0.0846 - acc: 0.3325 - val_loss: 0.0844 - val_acc: 0.3342\n",
            "Epoch 20/100\n",
            "60000/60000 [==============================] - 1s 20us/step - loss: 0.0842 - acc: 0.3337 - val_loss: 0.0840 - val_acc: 0.3354\n",
            "Epoch 21/100\n",
            "60000/60000 [==============================] - 1s 20us/step - loss: 0.0838 - acc: 0.3353 - val_loss: 0.0836 - val_acc: 0.3385\n",
            "Epoch 22/100\n",
            "60000/60000 [==============================] - 1s 21us/step - loss: 0.0835 - acc: 0.3379 - val_loss: 0.0832 - val_acc: 0.3419\n",
            "Epoch 23/100\n",
            "60000/60000 [==============================] - 1s 20us/step - loss: 0.0831 - acc: 0.3404 - val_loss: 0.0828 - val_acc: 0.3456\n",
            "Epoch 24/100\n",
            "60000/60000 [==============================] - 1s 20us/step - loss: 0.0827 - acc: 0.3436 - val_loss: 0.0824 - val_acc: 0.3507\n",
            "Epoch 25/100\n",
            "60000/60000 [==============================] - 1s 21us/step - loss: 0.0822 - acc: 0.3464 - val_loss: 0.0820 - val_acc: 0.3559\n",
            "Epoch 26/100\n",
            "60000/60000 [==============================] - 1s 20us/step - loss: 0.0818 - acc: 0.3513 - val_loss: 0.0816 - val_acc: 0.3620\n",
            "Epoch 27/100\n",
            "60000/60000 [==============================] - 1s 21us/step - loss: 0.0814 - acc: 0.3556 - val_loss: 0.0811 - val_acc: 0.3668\n",
            "Epoch 28/100\n",
            "60000/60000 [==============================] - 1s 21us/step - loss: 0.0810 - acc: 0.3617 - val_loss: 0.0807 - val_acc: 0.3728\n",
            "Epoch 29/100\n",
            "60000/60000 [==============================] - 1s 21us/step - loss: 0.0806 - acc: 0.3667 - val_loss: 0.0802 - val_acc: 0.3776\n",
            "Epoch 30/100\n",
            "60000/60000 [==============================] - 1s 20us/step - loss: 0.0801 - acc: 0.3728 - val_loss: 0.0798 - val_acc: 0.3839\n",
            "Epoch 31/100\n",
            "60000/60000 [==============================] - 1s 21us/step - loss: 0.0797 - acc: 0.3791 - val_loss: 0.0793 - val_acc: 0.3913\n",
            "Epoch 32/100\n",
            "60000/60000 [==============================] - 1s 21us/step - loss: 0.0792 - acc: 0.3865 - val_loss: 0.0789 - val_acc: 0.3988\n",
            "Epoch 33/100\n",
            "60000/60000 [==============================] - 1s 20us/step - loss: 0.0788 - acc: 0.3932 - val_loss: 0.0784 - val_acc: 0.4060\n",
            "Epoch 34/100\n",
            "60000/60000 [==============================] - 1s 20us/step - loss: 0.0783 - acc: 0.3997 - val_loss: 0.0780 - val_acc: 0.4151\n",
            "Epoch 35/100\n",
            "60000/60000 [==============================] - 1s 21us/step - loss: 0.0779 - acc: 0.4092 - val_loss: 0.0775 - val_acc: 0.4234\n",
            "Epoch 36/100\n",
            "60000/60000 [==============================] - 1s 20us/step - loss: 0.0774 - acc: 0.4169 - val_loss: 0.0770 - val_acc: 0.4321\n",
            "Epoch 37/100\n",
            "60000/60000 [==============================] - 1s 20us/step - loss: 0.0769 - acc: 0.4251 - val_loss: 0.0766 - val_acc: 0.4394\n",
            "Epoch 38/100\n",
            "60000/60000 [==============================] - 1s 20us/step - loss: 0.0765 - acc: 0.4355 - val_loss: 0.0761 - val_acc: 0.4468\n",
            "Epoch 39/100\n",
            "60000/60000 [==============================] - 1s 20us/step - loss: 0.0760 - acc: 0.4432 - val_loss: 0.0756 - val_acc: 0.4561\n",
            "Epoch 40/100\n",
            "60000/60000 [==============================] - 1s 20us/step - loss: 0.0755 - acc: 0.4520 - val_loss: 0.0751 - val_acc: 0.4666\n",
            "Epoch 41/100\n",
            "60000/60000 [==============================] - 1s 20us/step - loss: 0.0751 - acc: 0.4625 - val_loss: 0.0746 - val_acc: 0.4746\n",
            "Epoch 42/100\n",
            "60000/60000 [==============================] - 1s 20us/step - loss: 0.0746 - acc: 0.4719 - val_loss: 0.0742 - val_acc: 0.4853\n",
            "Epoch 43/100\n",
            "60000/60000 [==============================] - 1s 20us/step - loss: 0.0741 - acc: 0.4803 - val_loss: 0.0737 - val_acc: 0.4950\n",
            "Epoch 44/100\n",
            "60000/60000 [==============================] - 1s 21us/step - loss: 0.0736 - acc: 0.4904 - val_loss: 0.0732 - val_acc: 0.5032\n",
            "Epoch 45/100\n",
            "60000/60000 [==============================] - 1s 20us/step - loss: 0.0732 - acc: 0.4991 - val_loss: 0.0727 - val_acc: 0.5118\n",
            "Epoch 46/100\n",
            "60000/60000 [==============================] - 1s 21us/step - loss: 0.0727 - acc: 0.5086 - val_loss: 0.0722 - val_acc: 0.5213\n",
            "Epoch 47/100\n",
            "60000/60000 [==============================] - 1s 21us/step - loss: 0.0722 - acc: 0.5156 - val_loss: 0.0718 - val_acc: 0.5285\n",
            "Epoch 48/100\n",
            "60000/60000 [==============================] - 1s 21us/step - loss: 0.0717 - acc: 0.5253 - val_loss: 0.0713 - val_acc: 0.5354\n",
            "Epoch 49/100\n",
            "60000/60000 [==============================] - 1s 21us/step - loss: 0.0713 - acc: 0.5326 - val_loss: 0.0708 - val_acc: 0.5427\n",
            "Epoch 50/100\n",
            "60000/60000 [==============================] - 1s 21us/step - loss: 0.0708 - acc: 0.5398 - val_loss: 0.0703 - val_acc: 0.5498\n",
            "Epoch 51/100\n",
            "60000/60000 [==============================] - 1s 21us/step - loss: 0.0703 - acc: 0.5478 - val_loss: 0.0698 - val_acc: 0.5554\n",
            "Epoch 52/100\n",
            "60000/60000 [==============================] - 1s 21us/step - loss: 0.0698 - acc: 0.5539 - val_loss: 0.0693 - val_acc: 0.5619\n",
            "Epoch 53/100\n",
            "60000/60000 [==============================] - 1s 21us/step - loss: 0.0694 - acc: 0.5607 - val_loss: 0.0689 - val_acc: 0.5678\n",
            "Epoch 54/100\n",
            "60000/60000 [==============================] - 1s 20us/step - loss: 0.0689 - acc: 0.5666 - val_loss: 0.0684 - val_acc: 0.5741\n",
            "Epoch 55/100\n",
            "60000/60000 [==============================] - 1s 20us/step - loss: 0.0684 - acc: 0.5725 - val_loss: 0.0679 - val_acc: 0.5785\n",
            "Epoch 56/100\n",
            "60000/60000 [==============================] - 1s 21us/step - loss: 0.0680 - acc: 0.5782 - val_loss: 0.0674 - val_acc: 0.5835\n",
            "Epoch 57/100\n",
            "60000/60000 [==============================] - 1s 20us/step - loss: 0.0675 - acc: 0.5831 - val_loss: 0.0670 - val_acc: 0.5894\n",
            "Epoch 58/100\n",
            "60000/60000 [==============================] - 1s 20us/step - loss: 0.0670 - acc: 0.5872 - val_loss: 0.0665 - val_acc: 0.5941\n",
            "Epoch 59/100\n",
            "60000/60000 [==============================] - 1s 21us/step - loss: 0.0666 - acc: 0.5921 - val_loss: 0.0660 - val_acc: 0.5985\n",
            "Epoch 60/100\n",
            "60000/60000 [==============================] - 1s 20us/step - loss: 0.0661 - acc: 0.5962 - val_loss: 0.0655 - val_acc: 0.6028\n",
            "Epoch 61/100\n",
            "60000/60000 [==============================] - 1s 21us/step - loss: 0.0656 - acc: 0.6003 - val_loss: 0.0651 - val_acc: 0.6068\n",
            "Epoch 62/100\n",
            "60000/60000 [==============================] - 1s 21us/step - loss: 0.0652 - acc: 0.6041 - val_loss: 0.0646 - val_acc: 0.6102\n",
            "Epoch 63/100\n",
            "60000/60000 [==============================] - 1s 21us/step - loss: 0.0647 - acc: 0.6080 - val_loss: 0.0641 - val_acc: 0.6136\n",
            "Epoch 64/100\n",
            "60000/60000 [==============================] - 1s 20us/step - loss: 0.0642 - acc: 0.6117 - val_loss: 0.0636 - val_acc: 0.6163\n",
            "Epoch 65/100\n",
            "60000/60000 [==============================] - 1s 20us/step - loss: 0.0638 - acc: 0.6152 - val_loss: 0.0632 - val_acc: 0.6189\n",
            "Epoch 66/100\n",
            "60000/60000 [==============================] - 1s 20us/step - loss: 0.0633 - acc: 0.6186 - val_loss: 0.0627 - val_acc: 0.6225\n",
            "Epoch 67/100\n",
            "60000/60000 [==============================] - 1s 20us/step - loss: 0.0629 - acc: 0.6220 - val_loss: 0.0623 - val_acc: 0.6257\n",
            "Epoch 68/100\n",
            "60000/60000 [==============================] - 1s 20us/step - loss: 0.0624 - acc: 0.6256 - val_loss: 0.0618 - val_acc: 0.6276\n",
            "Epoch 69/100\n",
            "60000/60000 [==============================] - 1s 20us/step - loss: 0.0620 - acc: 0.6288 - val_loss: 0.0613 - val_acc: 0.6304\n",
            "Epoch 70/100\n",
            "60000/60000 [==============================] - 1s 20us/step - loss: 0.0615 - acc: 0.6319 - val_loss: 0.0609 - val_acc: 0.6338\n",
            "Epoch 71/100\n",
            "60000/60000 [==============================] - 1s 21us/step - loss: 0.0611 - acc: 0.6345 - val_loss: 0.0604 - val_acc: 0.6362\n",
            "Epoch 72/100\n",
            "60000/60000 [==============================] - 1s 21us/step - loss: 0.0606 - acc: 0.6373 - val_loss: 0.0600 - val_acc: 0.6390\n",
            "Epoch 73/100\n",
            "60000/60000 [==============================] - 1s 20us/step - loss: 0.0602 - acc: 0.6397 - val_loss: 0.0595 - val_acc: 0.6420\n",
            "Epoch 74/100\n",
            "60000/60000 [==============================] - 1s 21us/step - loss: 0.0597 - acc: 0.6424 - val_loss: 0.0591 - val_acc: 0.6439\n",
            "Epoch 75/100\n",
            "60000/60000 [==============================] - 1s 20us/step - loss: 0.0593 - acc: 0.6446 - val_loss: 0.0586 - val_acc: 0.6467\n",
            "Epoch 76/100\n",
            "60000/60000 [==============================] - 1s 21us/step - loss: 0.0589 - acc: 0.6470 - val_loss: 0.0582 - val_acc: 0.6485\n",
            "Epoch 77/100\n",
            "60000/60000 [==============================] - 1s 20us/step - loss: 0.0584 - acc: 0.6497 - val_loss: 0.0577 - val_acc: 0.6496\n",
            "Epoch 78/100\n",
            "60000/60000 [==============================] - 1s 21us/step - loss: 0.0580 - acc: 0.6520 - val_loss: 0.0573 - val_acc: 0.6520\n",
            "Epoch 79/100\n",
            "60000/60000 [==============================] - 1s 21us/step - loss: 0.0576 - acc: 0.6548 - val_loss: 0.0569 - val_acc: 0.6553\n",
            "Epoch 80/100\n",
            "60000/60000 [==============================] - 1s 21us/step - loss: 0.0571 - acc: 0.6572 - val_loss: 0.0564 - val_acc: 0.6583\n",
            "Epoch 81/100\n",
            "60000/60000 [==============================] - 1s 21us/step - loss: 0.0567 - acc: 0.6598 - val_loss: 0.0560 - val_acc: 0.6605\n",
            "Epoch 82/100\n",
            "60000/60000 [==============================] - 1s 20us/step - loss: 0.0563 - acc: 0.6625 - val_loss: 0.0556 - val_acc: 0.6645\n",
            "Epoch 83/100\n",
            "60000/60000 [==============================] - 1s 21us/step - loss: 0.0559 - acc: 0.6652 - val_loss: 0.0551 - val_acc: 0.6676\n",
            "Epoch 84/100\n",
            "60000/60000 [==============================] - 1s 21us/step - loss: 0.0555 - acc: 0.6681 - val_loss: 0.0547 - val_acc: 0.6702\n",
            "Epoch 85/100\n",
            "60000/60000 [==============================] - 1s 21us/step - loss: 0.0550 - acc: 0.6713 - val_loss: 0.0543 - val_acc: 0.6741\n",
            "Epoch 86/100\n",
            "60000/60000 [==============================] - 1s 21us/step - loss: 0.0546 - acc: 0.6744 - val_loss: 0.0539 - val_acc: 0.6777\n",
            "Epoch 87/100\n",
            "60000/60000 [==============================] - 1s 21us/step - loss: 0.0542 - acc: 0.6776 - val_loss: 0.0535 - val_acc: 0.6815\n",
            "Epoch 88/100\n",
            "60000/60000 [==============================] - 1s 20us/step - loss: 0.0538 - acc: 0.6809 - val_loss: 0.0531 - val_acc: 0.6840\n",
            "Epoch 89/100\n",
            "60000/60000 [==============================] - 1s 20us/step - loss: 0.0534 - acc: 0.6841 - val_loss: 0.0527 - val_acc: 0.6875\n",
            "Epoch 90/100\n",
            "60000/60000 [==============================] - 1s 21us/step - loss: 0.0530 - acc: 0.6871 - val_loss: 0.0523 - val_acc: 0.6913\n",
            "Epoch 91/100\n",
            "60000/60000 [==============================] - 1s 21us/step - loss: 0.0527 - acc: 0.6901 - val_loss: 0.0519 - val_acc: 0.6952\n",
            "Epoch 92/100\n",
            "60000/60000 [==============================] - 1s 20us/step - loss: 0.0523 - acc: 0.6936 - val_loss: 0.0515 - val_acc: 0.6984\n",
            "Epoch 93/100\n",
            "60000/60000 [==============================] - 1s 21us/step - loss: 0.0519 - acc: 0.6973 - val_loss: 0.0511 - val_acc: 0.7025\n",
            "Epoch 94/100\n",
            "60000/60000 [==============================] - 1s 20us/step - loss: 0.0515 - acc: 0.7010 - val_loss: 0.0507 - val_acc: 0.7073\n",
            "Epoch 95/100\n",
            "60000/60000 [==============================] - 1s 21us/step - loss: 0.0511 - acc: 0.7042 - val_loss: 0.0503 - val_acc: 0.7101\n",
            "Epoch 96/100\n",
            "60000/60000 [==============================] - 1s 21us/step - loss: 0.0507 - acc: 0.7081 - val_loss: 0.0499 - val_acc: 0.7141\n",
            "Epoch 97/100\n",
            "60000/60000 [==============================] - 1s 21us/step - loss: 0.0504 - acc: 0.7114 - val_loss: 0.0496 - val_acc: 0.7191\n",
            "Epoch 98/100\n",
            "60000/60000 [==============================] - 1s 21us/step - loss: 0.0500 - acc: 0.7148 - val_loss: 0.0492 - val_acc: 0.7226\n",
            "Epoch 99/100\n",
            "60000/60000 [==============================] - 1s 21us/step - loss: 0.0497 - acc: 0.7187 - val_loss: 0.0488 - val_acc: 0.7262\n",
            "Epoch 100/100\n",
            "60000/60000 [==============================] - 1s 21us/step - loss: 0.0493 - acc: 0.7220 - val_loss: 0.0485 - val_acc: 0.7291\n"
          ],
          "name": "stdout"
        },
        {
          "output_type": "execute_result",
          "data": {
            "text/plain": [
              "<keras.callbacks.History at 0x7f08f6bf5eb8>"
            ]
          },
          "metadata": {
            "tags": []
          },
          "execution_count": 12
        }
      ]
    },
    {
      "cell_type": "markdown",
      "metadata": {
        "id": "erhIXqCgNuO-",
        "colab_type": "text"
      },
      "source": [
        "The training and the testing accuracy are both 9% after 1 epoch which is not great - we had 10 classes so it should get this accuracy by random guessing ;).\n",
        "\n",
        "Notice however that as we run the NN for more epochs we get better accuracy. Even with this shallow net, when we run it with 20 epochs the accuracy gets to around 30%, improving to around 70% if the epochs are increased to 100."
      ]
    },
    {
      "cell_type": "code",
      "metadata": {
        "id": "tR9J2-rYNg9B",
        "colab_type": "code",
        "colab": {}
      },
      "source": [
        ""
      ],
      "execution_count": 0,
      "outputs": []
    }
  ]
}