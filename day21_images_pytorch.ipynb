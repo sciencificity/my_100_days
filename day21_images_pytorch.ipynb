{
  "nbformat": 4,
  "nbformat_minor": 0,
  "metadata": {
    "colab": {
      "name": "images_pytorch.ipynb",
      "provenance": [],
      "collapsed_sections": []
    },
    "kernelspec": {
      "name": "python3",
      "display_name": "Python 3"
    }
  },
  "cells": [
    {
      "cell_type": "code",
      "metadata": {
        "id": "qlibFA_eM62t",
        "colab_type": "code",
        "colab": {}
      },
      "source": [
        "import torch\n",
        "from torchvision import datasets, transforms\n",
        "import numpy as np\n",
        "import matplotlib.pyplot as plt\n",
        "from torch import nn\n",
        "import torch.nn.functional as F\n"
      ],
      "execution_count": 0,
      "outputs": []
    },
    {
      "cell_type": "markdown",
      "metadata": {
        "id": "TLWL1_vvN43t",
        "colab_type": "text"
      },
      "source": [
        "### MNIST data\n",
        "The images in the MNIST dataset are 28 x 28 pixels (2 dimensional, 28 wide, 28 long) and is a grayscale image. The pixel values range from 0 to 255. \n",
        "We will first have to transform the array to a tensor."
      ]
    },
    {
      "cell_type": "code",
      "metadata": {
        "id": "_d8NwvVpNPXj",
        "colab_type": "code",
        "colab": {}
      },
      "source": [
        "# In the transforms module there is a Compose() function that allows the chaining together of operations\n",
        "# 1st: Make arrays Tensors (0 - 255 -> 0 - 1 range)\n",
        "# 2nd: Normalise the data (takes the 0 - 1 pixel values and converts it to a number between -1 -> +1 where \n",
        "#      values near -1 indicates the pixel is dark, to black; numbers near 1 indicate that pixel is lit up / bright)\n",
        "#      We give it in first bracket a mean to use to normalise colour, width and height value; in second we give it a std dev\n",
        "transform = transforms.Compose([transforms.ToTensor(), \n",
        "                                transforms.Normalize((0.5,), (0.5, ))\n",
        "                                ])\n",
        "# root = where you want the data to be saved; this is the training set so train = True; we want to download the data so download = True\n",
        "# transform = what transformations do you wish to apply to the images?\n",
        "training_ds = datasets.MNIST(root = \"./data\", train=True, download=True, transform=transform)\n",
        "training_loader = torch.utils.data.DataLoader(dataset = training_ds, batch_size=100, shuffle = True)"
      ],
      "execution_count": 0,
      "outputs": []
    },
    {
      "cell_type": "code",
      "metadata": {
        "id": "CBSid_05TMjB",
        "colab_type": "code",
        "colab": {}
      },
      "source": [
        ""
      ],
      "execution_count": 0,
      "outputs": []
    },
    {
      "cell_type": "code",
      "metadata": {
        "id": "DvctrZBiQiw3",
        "colab_type": "code",
        "colab": {}
      },
      "source": [
        "def img_convert(tensor):\n",
        "  # tensor has 1 colour by 28 x 28 so is 1 x 28 x 28\n",
        "  # clone() creates a copy of tensor\n",
        "  # we call detach() in order to call numpy()\n",
        "  image = tensor.clone().detach().numpy() # converts to a numpy array\n",
        "  # to plot image we want 28 x 28 x 1 shape\n",
        "  image = image.transpose(1, 2, 0) # swap axis 1 for axis 0, axis 2 for axis 1, and axis 2 for axis 0 creates 28 x 28 x 1\n",
        "  # De-normalise image \n",
        "  # print(image.shape)\n",
        "  image = image * np.array((0.5,0.5,0.5)) + np.array((0.5,0.5,0.5))\n",
        "  image = image.clip(0,1)\n",
        "  return image\n",
        "\n"
      ],
      "execution_count": 0,
      "outputs": []
    },
    {
      "cell_type": "code",
      "metadata": {
        "id": "kaSZTRczToJu",
        "colab_type": "code",
        "colab": {
          "base_uri": "https://localhost:8080/",
          "height": 608
        },
        "outputId": "c747c4c5-48c3-4067-b3a4-9c51d7c868c0"
      },
      "source": [
        "dataiter = iter(training_loader)\n",
        "images, labels = dataiter.next()\n",
        "fig = plt.figure(figsize=(25, 4))\n",
        "\n",
        "for idx in np.arange(20):\n",
        "  ax = fig.add_subplot(2, 10, idx+1, xticks=[], yticks=[])\n",
        "  plt.imshow(img_convert(images[idx]))\n",
        "  ax.set_title([labels[idx].item()])"
      ],
      "execution_count": 28,
      "outputs": [
        {
          "output_type": "stream",
          "text": [
            "(28, 28, 1)\n",
            "(28, 28, 1)\n",
            "(28, 28, 1)\n",
            "(28, 28, 1)\n",
            "(28, 28, 1)\n",
            "(28, 28, 1)\n",
            "(28, 28, 1)\n",
            "(28, 28, 1)\n",
            "(28, 28, 1)\n",
            "(28, 28, 1)\n",
            "(28, 28, 1)\n",
            "(28, 28, 1)\n",
            "(28, 28, 1)\n",
            "(28, 28, 1)\n",
            "(28, 28, 1)\n",
            "(28, 28, 1)\n",
            "(28, 28, 1)\n",
            "(28, 28, 1)\n",
            "(28, 28, 1)\n",
            "(28, 28, 1)\n"
          ],
          "name": "stdout"
        },
        {
          "output_type": "display_data",
          "data": {
            "image/png": "[encoded data removed]",
            "text/plain": [
              "<Figure size 1800x288 with 20 Axes>"
            ]
          },
          "metadata": {
            "tags": []
          }
        }
      ]
    },
    {
      "cell_type": "code",
      "metadata": {
        "id": "a6W7QcEuZUZr",
        "colab_type": "code",
        "colab": {}
      },
      "source": [
        "class Classifier(nn.Module):\n",
        "    # We will have 2 hidden layers\n",
        "    def __init__(self, input_size, H1, H2, output_size):\n",
        "        super().__init__()\n",
        "        self.linear1 = nn.Linear(input_size, H1)\n",
        "        self.linear2 = nn.Linear(H1, H2)\n",
        "        self.linear3 = nn.Linear(H2, output_size)\n",
        "    def forward(self, x):\n",
        "        # Let's use the relu activation function\n",
        "        x = F.relu(self.linear1(x))  \n",
        "        x = F.relu(self.linear2(x))\n",
        "        x = self.linear3(x)\n",
        "        # We are dealing with a multi class dataset so no activation function at end\n",
        "        # We get the raw output of the network - score\n",
        "        # nn.CrossEntropyLoss -> combination of log_softmax + NLLLoss\n",
        "        # We use log probabilities\n",
        "        return x"
      ],
      "execution_count": 0,
      "outputs": []
    },
    {
      "cell_type": "code",
      "metadata": {
        "id": "2rdUOHtvesHs",
        "colab_type": "code",
        "colab": {
          "base_uri": "https://localhost:8080/",
          "height": 102
        },
        "outputId": "d5a56dfc-e93d-449d-937d-7267b6d272ba"
      },
      "source": [
        "model = Classifier(784, 125, 65, 10)\n",
        "model"
      ],
      "execution_count": 32,
      "outputs": [
        {
          "output_type": "execute_result",
          "data": {
            "text/plain": [
              "Classifier(\n",
              "  (linear1): Linear(in_features=784, out_features=125, bias=True)\n",
              "  (linear2): Linear(in_features=125, out_features=65, bias=True)\n",
              "  (linear3): Linear(in_features=65, out_features=10, bias=True)\n",
              ")"
            ]
          },
          "metadata": {
            "tags": []
          },
          "execution_count": 32
        }
      ]
    },
    {
      "cell_type": "code",
      "metadata": {
        "id": "V_NZ3NDze3qb",
        "colab_type": "code",
        "colab": {}
      },
      "source": [
        "\n",
        "criterion = nn.CrossEntropyLoss()\n",
        "optimizer = torch.optim.Adam(model.parameters(), lr = 0.01)"
      ],
      "execution_count": 0,
      "outputs": []
    },
    {
      "cell_type": "code",
      "metadata": {
        "id": "Sl7vokjIe53a",
        "colab_type": "code",
        "colab": {
          "base_uri": "https://localhost:8080/",
          "height": 425
        },
        "outputId": "690d9a89-d379-4e53-84bd-974f3faadfe2"
      },
      "source": [
        "epochs = 12\n",
        "running_loss_history = []\n",
        "running_corrects_history = []\n",
        "for e in range(epochs):  \n",
        "  running_loss = 0.0\n",
        "  running_corrects = 0.0  \n",
        "  for inputs, labels in training_loader:\n",
        "    inputs = inputs.view(inputs.shape[0], -1)\n",
        "    outputs = model(inputs)\n",
        "    loss = criterion(outputs, labels)\n",
        "    \n",
        "    optimizer.zero_grad()\n",
        "    loss.backward()\n",
        "    optimizer.step()\n",
        "    \n",
        "    _, preds = torch.max(outputs, 1)\n",
        "    running_loss += loss.item()\n",
        "    running_corrects += torch.sum(preds == labels.data)\n",
        "\n",
        "  else:\n",
        "    epoch_loss = running_loss/len(training_loader)\n",
        "    epoch_acc = running_corrects.float()/ len(training_loader)\n",
        "    running_loss_history.append(epoch_loss)\n",
        "    running_corrects_history.append(epoch_acc)\n",
        "    print(f'epoch : {e+1}')\n",
        "    print(f'training loss: {epoch_loss:.4f}, acc {epoch_acc.item():4f}')"
      ],
      "execution_count": 34,
      "outputs": [
        {
          "output_type": "stream",
          "text": [
            "epoch : 1\n",
            "training loss: 0.9415, acc 77.388336\n",
            "epoch : 2\n",
            "training loss: 0.3745, acc 89.370003\n",
            "epoch : 3\n",
            "training loss: 0.3120, acc 90.926666\n",
            "epoch : 4\n",
            "training loss: 0.2780, acc 91.996666\n",
            "epoch : 5\n",
            "training loss: 0.2519, acc 92.683334\n",
            "epoch : 6\n",
            "training loss: 0.2304, acc 93.379997\n",
            "epoch : 7\n",
            "training loss: 0.2124, acc 93.901665\n",
            "epoch : 8\n",
            "training loss: 0.1973, acc 94.356667\n",
            "epoch : 9\n",
            "training loss: 0.1842, acc 94.663330\n",
            "epoch : 10\n",
            "training loss: 0.1723, acc 95.003334\n",
            "epoch : 11\n",
            "training loss: 0.1619, acc 95.285004\n",
            "epoch : 12\n",
            "training loss: 0.1529, acc 95.566666\n"
          ],
          "name": "stdout"
        }
      ]
    },
    {
      "cell_type": "code",
      "metadata": {
        "id": "oYX0hhJFh1bf",
        "colab_type": "code",
        "colab": {
          "base_uri": "https://localhost:8080/",
          "height": 282
        },
        "outputId": "29de2ff1-6aef-4d78-be15-6a01dc39deae"
      },
      "source": [
        "plt.plot(running_loss_history, label='training loss')\n",
        "plt.legend()"
      ],
      "execution_count": 35,
      "outputs": [
        {
          "output_type": "execute_result",
          "data": {
            "text/plain": [
              "<matplotlib.legend.Legend at 0x7ff81dac33c8>"
            ]
          },
          "metadata": {
            "tags": []
          },
          "execution_count": 35
        },
        {
          "output_type": "display_data",
          "data": {
            "image/png": "[encoded data removed]",
            "text/plain": [
              "<Figure size 432x288 with 1 Axes>"
            ]
          },
          "metadata": {
            "tags": []
          }
        }
      ]
    },
    {
      "cell_type": "code",
      "metadata": {
        "id": "PJuzSVMJie9c",
        "colab_type": "code",
        "colab": {
          "base_uri": "https://localhost:8080/",
          "height": 282
        },
        "outputId": "6b774365-14c3-4822-b3cd-df6f2ca61671"
      },
      "source": [
        "plt.plot(running_corrects_history, label='training accuracy')\n",
        "plt.legend()"
      ],
      "execution_count": 36,
      "outputs": [
        {
          "output_type": "execute_result",
          "data": {
            "text/plain": [
              "<matplotlib.legend.Legend at 0x7ff81da540f0>"
            ]
          },
          "metadata": {
            "tags": []
          },
          "execution_count": 36
        },
        {
          "output_type": "display_data",
          "data": {
            "image/png": "[encoded data removed]",
            "text/plain": [
              "<Figure size 432x288 with 1 Axes>"
            ]
          },
          "metadata": {
            "tags": []
          }
        }
      ]
    }
  ]
}