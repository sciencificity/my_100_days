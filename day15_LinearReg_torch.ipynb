{
  "nbformat": 4,
  "nbformat_minor": 0,
  "metadata": {
    "colab": {
      "name": "LinearReg_torch.ipynb",
      "provenance": [],
      "collapsed_sections": []
    },
    "kernelspec": {
      "name": "python3",
      "display_name": "Python 3"
    }
  },
  "cells": [
    {
      "cell_type": "code",
      "metadata": {
        "id": "mB_KDrrT8DGL",
        "colab_type": "code",
        "colab": {}
      },
      "source": [
        "import torch\n",
        "from torch.nn import Linear\n",
        "import torch.nn as nn\n",
        "import matplotlib.pyplot as plt\n",
        "import numpy as np"
      ],
      "execution_count": 0,
      "outputs": []
    },
    {
      "cell_type": "code",
      "metadata": {
        "colab_type": "code",
        "id": "dCHUT9WA_9Ah",
        "colab": {}
      },
      "source": [
        "# We're going to try and fit a linear model: y = w*x + b\n",
        "w = torch.tensor(3.0, requires_grad=True)\n",
        "b = torch.tensor(1.0, requires_grad=True)\n"
      ],
      "execution_count": 0,
      "outputs": []
    },
    {
      "cell_type": "code",
      "metadata": {
        "id": "0cqTrD6XABvg",
        "colab_type": "code",
        "colab": {}
      },
      "source": [
        "def forward(x):\n",
        "  y = w*x + b\n",
        "  return y"
      ],
      "execution_count": 0,
      "outputs": []
    },
    {
      "cell_type": "code",
      "metadata": {
        "id": "qJGYQjkoAMAg",
        "colab_type": "code",
        "colab": {
          "base_uri": "https://localhost:8080/",
          "height": 34
        },
        "outputId": "ff5c1c95-1a66-459e-f265-45375067e489"
      },
      "source": [
        "x1 = torch.tensor(2)\n",
        "forward(x1)"
      ],
      "execution_count": 86,
      "outputs": [
        {
          "output_type": "execute_result",
          "data": {
            "text/plain": [
              "tensor(7., grad_fn=<AddBackward0>)"
            ]
          },
          "metadata": {
            "tags": []
          },
          "execution_count": 86
        }
      ]
    },
    {
      "cell_type": "code",
      "metadata": {
        "id": "Qxl235CpATcH",
        "colab_type": "code",
        "colab": {
          "base_uri": "https://localhost:8080/",
          "height": 51
        },
        "outputId": "d0f1f0dd-91f6-4556-e9b1-388a98b3881d"
      },
      "source": [
        "x2 = torch.tensor([[4], [7]])\n",
        "forward(x2)"
      ],
      "execution_count": 87,
      "outputs": [
        {
          "output_type": "execute_result",
          "data": {
            "text/plain": [
              "tensor([[13.],\n",
              "        [22.]], grad_fn=<AddBackward0>)"
            ]
          },
          "metadata": {
            "tags": []
          },
          "execution_count": 87
        }
      ]
    },
    {
      "cell_type": "code",
      "metadata": {
        "id": "inXC-SMOAq5G",
        "colab_type": "code",
        "colab": {
          "base_uri": "https://localhost:8080/",
          "height": 68
        },
        "outputId": "0f5ce130-2305-46f3-f21f-68e7941560a7"
      },
      "source": [
        "# Ok, a more standard way is to use the torch Linear module\n",
        "# So we're going to switch to that now\n",
        "# We're first setting a seed since the weights and bias start at random values and then we train our model through\n",
        "# a gradient descent model to obtain the optimal parameters to fit our data\n",
        "# we want our values that come out of our model to be consistent and reproducible hence we set a seed\n",
        "torch.manual_seed(1)\n",
        "model = Linear(in_features=1, out_features=1)\n",
        "print(model.bias, model.weight)"
      ],
      "execution_count": 88,
      "outputs": [
        {
          "output_type": "stream",
          "text": [
            "Parameter containing:\n",
            "tensor([-0.4414], requires_grad=True) Parameter containing:\n",
            "tensor([[0.5153]], requires_grad=True)\n"
          ],
          "name": "stdout"
        }
      ]
    },
    {
      "cell_type": "markdown",
      "metadata": {
        "id": "3VWNx9U6Bygg",
        "colab_type": "text"
      },
      "source": [
        "So from the above notice that our model is currently: \\\n",
        "> y = w * x + b \\\n",
        "> y = 0.5153 * x - 0.4414 \\\n"
      ]
    },
    {
      "cell_type": "code",
      "metadata": {
        "id": "y61NKkGrCLU8",
        "colab_type": "code",
        "colab": {
          "base_uri": "https://localhost:8080/",
          "height": 34
        },
        "outputId": "16dbb9c1-ee64-4559-e488-bb947ba022c3"
      },
      "source": [
        "x3 = torch.tensor([2.0])\n",
        "print(model(x3))"
      ],
      "execution_count": 89,
      "outputs": [
        {
          "output_type": "stream",
          "text": [
            "tensor([0.5891], grad_fn=<AddBackward0>)\n"
          ],
          "name": "stdout"
        }
      ]
    },
    {
      "cell_type": "code",
      "metadata": {
        "id": "ZrstmUPHCX1z",
        "colab_type": "code",
        "colab": {
          "base_uri": "https://localhost:8080/",
          "height": 51
        },
        "outputId": "198e55be-c094-4f0f-a6df-4fe8ada7c852"
      },
      "source": [
        "x3 = torch.tensor([[2.0], [3.3]])\n",
        "print(model(x3))"
      ],
      "execution_count": 90,
      "outputs": [
        {
          "output_type": "stream",
          "text": [
            "tensor([[0.5891],\n",
            "        [1.2590]], grad_fn=<AddmmBackward>)\n"
          ],
          "name": "stdout"
        }
      ]
    },
    {
      "cell_type": "code",
      "metadata": {
        "id": "mEY0Zrw7Co10",
        "colab_type": "code",
        "colab": {}
      },
      "source": [
        "# We added the import.nn in the import code block\n",
        "# Template for a new class\n",
        "# We are using inheritance such that this subclass will leverage code from our base class \n",
        "# nn.Module - Module acts as a base class for all neural network modules\n",
        "# Here the LR class will be a subclass of nn.Module so it inherits methods and variables from\n",
        "# the parent class\n",
        "class LR(nn.Module):\n",
        "  # Constructor to initialise new objects of the class\n",
        "  # We will use this class to initialise new instances of a linear model\n",
        "  def __init__(self, input_size, output_size):\n",
        "    # When using inheritance we need to call super.__init__() which\n",
        "    # allows freedom for multiple inheritance - this is boiler plate code\n",
        "    # that needs to be written to create a custom class\n",
        "    super().__init__()\n",
        "    self.linear = nn.Linear(input_size, output_size)\n",
        "\n",
        "  def forward(self, x):\n",
        "    pred = self.linear(x)\n",
        "    return pred\n"
      ],
      "execution_count": 0,
      "outputs": []
    },
    {
      "cell_type": "code",
      "metadata": {
        "id": "JCOprrkbDXCD",
        "colab_type": "code",
        "colab": {
          "base_uri": "https://localhost:8080/",
          "height": 68
        },
        "outputId": "3b6c8639-d50d-4a7d-f910-e4c78f898cbf"
      },
      "source": [
        "torch.manual_seed(1)\n",
        "# Instantiate a new object of class LR\n",
        "model = LR(1,1)\n",
        "print(list(model.parameters()))"
      ],
      "execution_count": 92,
      "outputs": [
        {
          "output_type": "stream",
          "text": [
            "[Parameter containing:\n",
            "tensor([[0.5153]], requires_grad=True), Parameter containing:\n",
            "tensor([-0.4414], requires_grad=True)]\n"
          ],
          "name": "stdout"
        }
      ]
    },
    {
      "cell_type": "code",
      "metadata": {
        "id": "IBrCCfA7Fdm4",
        "colab_type": "code",
        "colab": {
          "base_uri": "https://localhost:8080/",
          "height": 51
        },
        "outputId": "b6cd9c3f-b461-4246-e9e8-be29d1bcc791"
      },
      "source": [
        "x3 = torch.tensor([1.0])\n",
        "print(model.forward(x))"
      ],
      "execution_count": 93,
      "outputs": [
        {
          "output_type": "stream",
          "text": [
            "tensor([[0.0739],\n",
            "        [0.5891]], grad_fn=<AddmmBackward>)\n"
          ],
          "name": "stdout"
        }
      ]
    },
    {
      "cell_type": "code",
      "metadata": {
        "id": "RDgmJoRvF7Xl",
        "colab_type": "code",
        "colab": {
          "base_uri": "https://localhost:8080/",
          "height": 51
        },
        "outputId": "680d3fb5-9a6b-4c08-acac-e05e001e8923"
      },
      "source": [
        "x3 = torch.tensor([[1.0], [2.0]])\n",
        "print(model.forward(x))"
      ],
      "execution_count": 94,
      "outputs": [
        {
          "output_type": "stream",
          "text": [
            "tensor([[0.0739],\n",
            "        [0.5891]], grad_fn=<AddmmBackward>)\n"
          ],
          "name": "stdout"
        }
      ]
    },
    {
      "cell_type": "code",
      "metadata": {
        "id": "qtmQwvMzjWma",
        "colab_type": "code",
        "colab": {}
      },
      "source": [
        ""
      ],
      "execution_count": 0,
      "outputs": []
    },
    {
      "cell_type": "code",
      "metadata": {
        "colab_type": "code",
        "outputId": "22712f8a-70b8-4049-82bb-10bb79e14638",
        "id": "8NiOZM-6jXfy",
        "colab": {
          "base_uri": "https://localhost:8080/",
          "height": 330
        }
      },
      "source": [
        "# Create a dataset\n",
        "# We will create a tensor with random numbers that are normally distributed \n",
        "# We give it a seq of integers that define the shape of our tensor - 100 rows and 1 col\n",
        "X = torch.randn(100,1) * 10\n",
        "y = X + 3 * torch.randn(100, 1)\n",
        "plt.plot(X.numpy(), y.numpy(), 'o')\n",
        "plt.ylabel('y')\n",
        "plt.xlabel('x')\n",
        "\n",
        "\n",
        "torch.manual_seed(1)\n",
        "model = LR(1, 1)\n",
        "print(model)"
      ],
      "execution_count": 112,
      "outputs": [
        {
          "output_type": "stream",
          "text": [
            "LR(\n",
            "  (linear): Linear(in_features=1, out_features=1, bias=True)\n",
            ")\n"
          ],
          "name": "stdout"
        },
        {
          "output_type": "display_data",
          "data": {
            "image/png": "[encoded data removed]",
            "text/plain": [
              "<Figure size 432x288 with 1 Axes>"
            ]
          },
          "metadata": {
            "tags": []
          }
        }
      ]
    },
    {
      "cell_type": "code",
      "metadata": {
        "id": "i3EY6ODrGZZl",
        "colab_type": "code",
        "colab": {}
      },
      "source": [
        "# # Let's use our data now\n",
        "# torch.manual_seed(1)\n",
        "# # Instantiate a new object of class LR\n",
        "# model = LR(1,1)\n",
        "# [w, b] = model.parameters()\n",
        "# # print(w, b)\n",
        "# # w1 = w[0][0].item()\n",
        "# # b1 = b[0].item()\n",
        "# # print(w1, b1)\n"
      ],
      "execution_count": 0,
      "outputs": []
    },
    {
      "cell_type": "code",
      "metadata": {
        "id": "izAZbe7OIOOM",
        "colab_type": "code",
        "colab": {}
      },
      "source": [
        " [w, b] = model.parameters()\n",
        " def get_params(): \n",
        "  return(w[0][0].item(), b[0].item())"
      ],
      "execution_count": 0,
      "outputs": []
    },
    {
      "cell_type": "code",
      "metadata": {
        "id": "GO217O9WIj9y",
        "colab_type": "code",
        "colab": {}
      },
      "source": [
        "def plot_fit(title):\n",
        "  plt.title = title\n",
        "  w1, b1 = get_params()\n",
        "  # Our data goes from -30 -> 30\n",
        "  x1 = np.array([-30, 30])\n",
        "  y1 = w1 * x1 + b1\n",
        "  plt.plot(x1, y1, 'r')\n",
        "  plt.scatter(X, y)\n",
        "  plt.show()"
      ],
      "execution_count": 0,
      "outputs": []
    },
    {
      "cell_type": "code",
      "metadata": {
        "id": "NcxbplfwJHRR",
        "colab_type": "code",
        "colab": {
          "base_uri": "https://localhost:8080/",
          "height": 265
        },
        "outputId": "01be7f70-13d4-46e9-e776-83c01f0cf162"
      },
      "source": [
        "plot_fit(title = 'First Model')"
      ],
      "execution_count": 107,
      "outputs": [
        {
          "output_type": "display_data",
          "data": {
            "image/png": "[encoded data removed]",
            "text/plain": [
              "<Figure size 432x288 with 1 Axes>"
            ]
          },
          "metadata": {
            "tags": []
          }
        }
      ]
    },
    {
      "cell_type": "markdown",
      "metadata": {
        "id": "IVZpCeKPKBS9",
        "colab_type": "text"
      },
      "source": [
        "## Fit\n",
        "As we can see the fit of our line is bad as we have a random weight and bias parameter fitted to the line. We need to use gradient descent to try and correct the line fit, based on the total error.\n",
        "\n",
        "## Gradient Descent\n",
        "Initially the model has random parameter values, but we want to move in the direction that gives us the smallest error. If we take the gradient of the error function (the derivative - slope of the tangent at the current value), the derivative will take us in the direction of the highest error ... so what we do is we move in the negative of the gradient since that will take us in the direction of the lowest error. \\\n",
        "We take the current weight and subtract the gradient of the function at that same pt, this will take us in the direction of least error  \\\n",
        "- f'(w) = derivative of the loss function\n",
        "- substitute in the value of current weight\n",
        "- Then calc new weight as w1 = w0 - f'(w) \n",
        "\n",
        "The new weight should result in a smaller error that the previous weight. We keep doing that iteratively until we obtain the optimal parameters for our linear model to fit the data. \\\n",
        "\n",
        "To obtain optimal results one should descend in really small steps since we don't want it to move too drastically in any one direction. As such we will multiply the gradient by a small number known as the **learning rate**\n",
        "\n",
        "- f'(w) = derivative of the loss function\n",
        "- substitute in the value of current weight\n",
        "- Then calc new weight as $w1 = w0 - \\alpha f'(w)$ where $\\alpha$ is the learning rate - e.g. $1/10$ or $1/100$\n",
        "\n",
        "\n",
        "\n",
        "\n",
        "\n"
      ]
    },
    {
      "cell_type": "code",
      "metadata": {
        "id": "rKHCthDbWPfJ",
        "colab_type": "code",
        "colab": {}
      },
      "source": [
        "# Loss function - built in\n",
        "criterion = nn.MSELoss()\n",
        "# SGD -> stochastic gradient descent, the full calc uses all of the dataset (1/n * sum(actual_y - pred_y))\n",
        "# On a big data set this calc is very costly\n",
        "# The SGD minimises the loss one sample at a time and more quickly converges to an \n",
        "# answer as it updates weights more frequently based on sample size\n",
        "optimiser = torch.optim.SGD(model.parameters(), lr = 0.01) # stochastic gradient descent \n"
      ],
      "execution_count": 0,
      "outputs": []
    },
    {
      "cell_type": "code",
      "metadata": {
        "id": "asf2fUHilhUW",
        "colab_type": "code",
        "colab": {
          "base_uri": "https://localhost:8080/",
          "height": 1000
        },
        "outputId": "acb93876-cb1f-4c28-b795-2c8c586b352a"
      },
      "source": [
        "\n",
        "# we will train our model for a certain number of times, an epoch is\n",
        "# a single pass through the entire dataset.\n",
        "# As we iterate through the dataset we calc the error function and backpropagate\n",
        "# gradient of the error function to update the weights\n",
        "# epoch of 1 -> probably leads to undefitting\n",
        "# epoch of too many -> may lead to overfitting (our dataset has only 100 pts)\n",
        "epochs = 100\n",
        "losses = []\n",
        "for i in range(epochs):\n",
        "  # make prediction\n",
        "  y_pred = model.forward(X)\n",
        "  # compare the actual value vs the predicted value\n",
        "  loss = criterion(y_pred, y)\n",
        "  print(f'epoch {i}, loss: {loss.item()}')\n",
        "  losses.append(loss)\n",
        "  # we must set the gradient to 0 before the optimiser step\n",
        "  # since gradients accumulate following a loss.backward() call\n",
        "  optimiser.zero_grad()\n",
        "  loss.backward()\n",
        "  # use the SGD to update the params\n",
        "  optimiser.step()\n"
      ],
      "execution_count": 116,
      "outputs": [
        {
          "output_type": "stream",
          "text": [
            "epoch 0, loss: 28.914575576782227\n",
            "epoch 1, loss: 20.61296844482422\n",
            "epoch 2, loss: 15.965325355529785\n",
            "epoch 3, loss: 13.363329887390137\n",
            "epoch 4, loss: 11.906599044799805\n",
            "epoch 5, loss: 11.091031074523926\n",
            "epoch 6, loss: 10.634418487548828\n",
            "epoch 7, loss: 10.378766059875488\n",
            "epoch 8, loss: 10.235620498657227\n",
            "epoch 9, loss: 10.155462265014648\n",
            "epoch 10, loss: 10.110568046569824\n",
            "epoch 11, loss: 10.085416793823242\n",
            "epoch 12, loss: 10.071319580078125\n",
            "epoch 13, loss: 10.063411712646484\n",
            "epoch 14, loss: 10.058968544006348\n",
            "epoch 15, loss: 10.056467056274414\n",
            "epoch 16, loss: 10.055052757263184\n",
            "epoch 17, loss: 10.05424690246582\n",
            "epoch 18, loss: 10.05378246307373\n",
            "epoch 19, loss: 10.053510665893555\n",
            "epoch 20, loss: 10.053346633911133\n",
            "epoch 21, loss: 10.053242683410645\n",
            "epoch 22, loss: 10.053174018859863\n",
            "epoch 23, loss: 10.05312442779541\n",
            "epoch 24, loss: 10.05308723449707\n",
            "epoch 25, loss: 10.053055763244629\n",
            "epoch 26, loss: 10.05302906036377\n",
            "epoch 27, loss: 10.05300521850586\n",
            "epoch 28, loss: 10.052983283996582\n",
            "epoch 29, loss: 10.052962303161621\n",
            "epoch 30, loss: 10.052942276000977\n",
            "epoch 31, loss: 10.052924156188965\n",
            "epoch 32, loss: 10.052906036376953\n",
            "epoch 33, loss: 10.052888870239258\n",
            "epoch 34, loss: 10.052872657775879\n",
            "epoch 35, loss: 10.0528564453125\n",
            "epoch 36, loss: 10.052842140197754\n",
            "epoch 37, loss: 10.052826881408691\n",
            "epoch 38, loss: 10.052813529968262\n",
            "epoch 39, loss: 10.052800178527832\n",
            "epoch 40, loss: 10.052786827087402\n",
            "epoch 41, loss: 10.052775382995605\n",
            "epoch 42, loss: 10.052762985229492\n",
            "epoch 43, loss: 10.052751541137695\n",
            "epoch 44, loss: 10.052741050720215\n",
            "epoch 45, loss: 10.052729606628418\n",
            "epoch 46, loss: 10.052720069885254\n",
            "epoch 47, loss: 10.05271053314209\n",
            "epoch 48, loss: 10.052700996398926\n",
            "epoch 49, loss: 10.052692413330078\n",
            "epoch 50, loss: 10.05268383026123\n",
            "epoch 51, loss: 10.052675247192383\n",
            "epoch 52, loss: 10.052667617797852\n",
            "epoch 53, loss: 10.052659034729004\n",
            "epoch 54, loss: 10.052652359008789\n",
            "epoch 55, loss: 10.052645683288574\n",
            "epoch 56, loss: 10.05263900756836\n",
            "epoch 57, loss: 10.052632331848145\n",
            "epoch 58, loss: 10.05262565612793\n",
            "epoch 59, loss: 10.052619934082031\n",
            "epoch 60, loss: 10.052614212036133\n",
            "epoch 61, loss: 10.052608489990234\n",
            "epoch 62, loss: 10.052603721618652\n",
            "epoch 63, loss: 10.052597999572754\n",
            "epoch 64, loss: 10.052593231201172\n",
            "epoch 65, loss: 10.05258846282959\n",
            "epoch 66, loss: 10.052584648132324\n",
            "epoch 67, loss: 10.052579879760742\n",
            "epoch 68, loss: 10.05257511138916\n",
            "epoch 69, loss: 10.052571296691895\n",
            "epoch 70, loss: 10.052567481994629\n",
            "epoch 71, loss: 10.052563667297363\n",
            "epoch 72, loss: 10.052560806274414\n",
            "epoch 73, loss: 10.052556991577148\n",
            "epoch 74, loss: 10.0525541305542\n",
            "epoch 75, loss: 10.05255126953125\n",
            "epoch 76, loss: 10.052547454833984\n",
            "epoch 77, loss: 10.052545547485352\n",
            "epoch 78, loss: 10.052541732788086\n",
            "epoch 79, loss: 10.052538871765137\n",
            "epoch 80, loss: 10.052536010742188\n",
            "epoch 81, loss: 10.052534103393555\n",
            "epoch 82, loss: 10.052532196044922\n",
            "epoch 83, loss: 10.052529335021973\n",
            "epoch 84, loss: 10.05252742767334\n",
            "epoch 85, loss: 10.052525520324707\n",
            "epoch 86, loss: 10.052523612976074\n",
            "epoch 87, loss: 10.052521705627441\n",
            "epoch 88, loss: 10.052519798278809\n",
            "epoch 89, loss: 10.052517890930176\n",
            "epoch 90, loss: 10.052515983581543\n",
            "epoch 91, loss: 10.05251407623291\n",
            "epoch 92, loss: 10.052513122558594\n",
            "epoch 93, loss: 10.052511215209961\n",
            "epoch 94, loss: 10.052510261535645\n",
            "epoch 95, loss: 10.052508354187012\n",
            "epoch 96, loss: 10.052506446838379\n",
            "epoch 97, loss: 10.052505493164062\n",
            "epoch 98, loss: 10.052504539489746\n",
            "epoch 99, loss: 10.05250358581543\n"
          ],
          "name": "stdout"
        }
      ]
    },
    {
      "cell_type": "code",
      "metadata": {
        "id": "PBRIE5MYfq-w",
        "colab_type": "code",
        "colab": {
          "base_uri": "https://localhost:8080/",
          "height": 282
        },
        "outputId": "9577f379-fd2c-40a8-8a71-caf2018b164c"
      },
      "source": [
        "plt.plot(range(epochs), losses)"
      ],
      "execution_count": 117,
      "outputs": [
        {
          "output_type": "execute_result",
          "data": {
            "text/plain": [
              "[<matplotlib.lines.Line2D at 0x7f535af335c0>]"
            ]
          },
          "metadata": {
            "tags": []
          },
          "execution_count": 117
        },
        {
          "output_type": "display_data",
          "data": {
            "image/png": "[encoded data removed]",
            "text/plain": [
              "<Figure size 432x288 with 1 Axes>"
            ]
          },
          "metadata": {
            "tags": []
          }
        }
      ]
    },
    {
      "cell_type": "code",
      "metadata": {
        "id": "XuhArlUMl350",
        "colab_type": "code",
        "colab": {
          "base_uri": "https://localhost:8080/",
          "height": 265
        },
        "outputId": "1f997e75-f32e-4cb4-8356-a2920dbf77c2"
      },
      "source": [
        "plot_fit(\"Trained Model\")"
      ],
      "execution_count": 118,
      "outputs": [
        {
          "output_type": "display_data",
          "data": {
            "image/png": "[encoded data removed]",
            "text/plain": [
              "<Figure size 432x288 with 1 Axes>"
            ]
          },
          "metadata": {
            "tags": []
          }
        }
      ]
    }
  ]
}